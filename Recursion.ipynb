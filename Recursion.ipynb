{
 "cells": [
  {
   "cell_type": "code",
   "execution_count": 3,
   "id": "3ae9eff4",
   "metadata": {},
   "outputs": [
    {
     "name": "stdout",
     "output_type": "stream",
     "text": [
      "3\n",
      "2\n",
      "1\n",
      "0\n"
     ]
    }
   ],
   "source": [
    "def countdown(i):\n",
    "    if i < 0:\n",
    "        return\n",
    "    print(i)\n",
    "    countdown(i - 1)\n",
    "    \n",
    "countdown(3)"
   ]
  },
  {
   "cell_type": "code",
   "execution_count": null,
   "id": "e00fcc66",
   "metadata": {},
   "outputs": [
    {
     "name": "stdout",
     "output_type": "stream",
     "text": [
      "Hello, Yosub!\n",
      "How are you, Yosub?\n",
      "getting ready to say goodbye...\n",
      "Ok bye!\n"
     ]
    }
   ],
   "source": [
    "def greet(name):\n",
    "    print(f\"Hello, {name}!\")\n",
    "    greet2(name)\n",
    "    print(\"getting ready to say goodbye...\")\n",
    "    bye()\n",
    "\n",
    "def greet2(name):  \n",
    "    print(f\"How are you, {name}?\")\n",
    "\n",
    "def bye():\n",
    "    print(\"Ok bye!\")\n",
    "\n",
    "greet(\"Yosub\")"
   ]
  },
  {
   "cell_type": "code",
   "execution_count": 9,
   "id": "ebb9f18a",
   "metadata": {},
   "outputs": [
    {
     "data": {
      "text/plain": [
       "6"
      ]
     },
     "execution_count": 9,
     "metadata": {},
     "output_type": "execute_result"
    }
   ],
   "source": [
    "def fact(x):\n",
    "    if x == 1:\n",
    "        return 1\n",
    "    else:\n",
    "        return x * fact(x - 1)\n",
    "    \n",
    "fact(3)"
   ]
  }
 ],
 "metadata": {
  "kernelspec": {
   "display_name": "Python 3",
   "language": "python",
   "name": "python3"
  },
  "language_info": {
   "codemirror_mode": {
    "name": "ipython",
    "version": 3
   },
   "file_extension": ".py",
   "mimetype": "text/x-python",
   "name": "python",
   "nbconvert_exporter": "python",
   "pygments_lexer": "ipython3",
   "version": "3.12.3"
  }
 },
 "nbformat": 4,
 "nbformat_minor": 5
}
